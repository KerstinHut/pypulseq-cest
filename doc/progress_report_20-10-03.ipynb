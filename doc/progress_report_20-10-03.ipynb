{
 "cells": [
  {
   "cell_type": "markdown",
   "metadata": {
    "slideshow": {
     "slide_type": "slide"
    }
   },
   "source": [
    "# Pypulseq-CEST\n",
    "## How to and C++ integration"
   ]
  },
  {
   "cell_type": "markdown",
   "metadata": {
    "slideshow": {
     "slide_type": "slide"
    }
   },
   "source": [
    "- **aim**: implement pulseq-CEST for python\n",
    "- **procedure**: \n",
    "    - optimize pypulseq\n",
    "    - wrap C++ functions of the Simulation with SWIG\n",
    "- **addition**:\n",
    "    - implement pure python simulation BMCSim for comparison and pure python usability\n",
    "- **current status**:\n",
    "    - pypulseq: a few bugfixes, workaround for version dissimilarities\n",
    "    - functional simulation with value discrepancies of less than $10^{-2}$\n",
    "    - debugging CEST pool simulation in both Sim-files"
   ]
  },
  {
   "cell_type": "markdown",
   "metadata": {
    "slideshow": {
     "slide_type": "slide"
    }
   },
   "source": [
    "### Pypulseq\n",
    "- similar to pulseq: as an example view [write_APTW_seq.py](../example/write_APTW_seq.py)\n",
    "- **aim**:\n",
    "    - usability for simple information handling (read files)\n",
    "    - file writing \n",
    "- readability for version 1.3 with simple information handling applied\n",
    "- bugfixes for proper RF handling underway"
   ]
  },
  {
   "cell_type": "markdown",
   "metadata": {
    "slideshow": {
     "slide_type": "slide"
    }
   },
   "source": [
    "### Simulation wrapping\n",
    "- wrappers for C++ code with [SWIG](http://www.swig.org/) and the setuptools [(distutils)](https://docs.python.org/3/library/distutils.html) package \n",
    "- the necessary files can be found in the [src](../src) folder:\n",
    "    - .cpp and .h files contain the necessary C++ functions\n",
    "    - .i files contain the information for SWIG to create the .cxx wrapper files\n",
    "    - setup.py files contain the code to compile python packages\n",
    "- wrapping and compilation can be accomplished by running the following commands\n",
    "    ```\n",
    "    swig -c++ -python SimPulseqSBB.i\n",
    "    swig -c++ -python ExternalSequence.i\n",
    "    python setup.py install\n",
    "    ```\n",
    "    - note: requires SWIG and for Windows VisualC++ (currently only runs on Windows)\n",
    "- 2 modules are created: SimPulseqSBB and ExternalSequence\n",
    "    - to create just either one of the modules, use setup_sim.py or setup_ext.py respectively"
   ]
  },
  {
   "cell_type": "markdown",
   "metadata": {
    "slideshow": {
     "slide_type": "slide"
    }
   },
   "source": [
    "### Brief introduction on SWIG definition files\n",
    "*minimal example (not working code):*\n",
    "\n",
    "```Cpp\n",
    "%module SimPulseqSBB // Module Name\n",
    "\n",
    "%{\n",
    "#define SWIG_FILE_WITH_INIT\n",
    "#include <functional>   // packages that the files we want to use need\n",
    "#include \"SimulationParameters.h\"   // also the .h files if another file needs it, even if it is included below\"\n",
    "#define _USE_MATH_DEFINES   // other definitions used by included files\n",
    "}\n",
    "\n",
    "%include <std_vector.i>   // .i files SWIG needs to wrap properly\n",
    "%include <eigen.i>   // other .i files you want swig to wrap as well\n",
    "\n",
    "%template(vectorMatrixXd) std::vector<Eigen::MatrixXd>;   // for SWIG to handle templates correctly if used directly\n",
    "\n",
    "%eigen_typemaps(Eigen::VectorXd)   // typemaps for variables that need special handling between languages\n",
    "\n",
    "%rename(NoLineshape) None;   // for variables that could cause problems between languages\n",
    "\n",
    "%include \"SimPulseqSBB.h\"  // the .h files that define the functions you want to use in python\n",
    "```\n",
    "- setup with distutils as an external module (see documentation and [setup.py](../src/setup.y))"
   ]
  },
  {
   "cell_type": "markdown",
   "metadata": {
    "slideshow": {
     "slide_type": "slide"
    }
   },
   "source": [
    "### Simulation example\n"
   ]
  },
  {
   "cell_type": "code",
   "execution_count": 10,
   "metadata": {
    "slideshow": {
     "slide_type": "skip"
    }
   },
   "outputs": [
    {
     "name": "stdout",
     "output_type": "stream",
     "text": [
      "Once deleted, variables cannot be recovered. Proceed (y/[n])? y\n"
     ]
    }
   ],
   "source": [
    "'''reset variables'''\n",
    "%reset"
   ]
  },
  {
   "cell_type": "code",
   "execution_count": 11,
   "metadata": {},
   "outputs": [],
   "source": [
    "''' set parameters '''\n",
    "\n",
    "# path to seq-file\n",
    "seq_file = 'example/example_APTw_m.seq'\n",
    "# scanner parameters\n",
    "b0 = 3  # field strength [T]\n",
    "gamma = 267.5153  # gyromagnetic ratio [rad / uT]\n",
    "# optional\n",
    "b0_inhom = 0.0\n",
    "rel_b1 = 1\n",
    "\n",
    "# # Water properties(standard 3 T)\n",
    "f_w = 1  # proton fraction\n",
    "try:\n",
    "    if round(b0) < 4:\n",
    "        r1_w = 1 / 1.3  # Hz 1.31\n",
    "        r2_w = 1 / (75e-3)  # Hz 71e-3\n",
    "    elif 4 < round(b0) < 9:  # 7T\n",
    "        r1_w = 1 / 1.67  # Hz\n",
    "        r2_w = 1 / (43e-3)  # Hz\n",
    "    elif round(b0) >= 9:  # 9.4 T and above\n",
    "        r1_w = 1 / 2.0  # Hz\n",
    "        r2_w = 1 / (35e-3)  # Hz\n",
    "except ValueError:\n",
    "    print('B0 field strength of ' + str(b0) + 'T: No implementation possible.')\n",
    "\n",
    "# # CEST pools according to https: // doi.org / 10.1016 / j.neuroimage.2017.04.045,\n",
    "# pool 1 Amide\n",
    "r1_a = r1_w\n",
    "r2_a = 1 / 100e-3\n",
    "f_a = 50e-3/111 # fraction\n",
    "dw_a = 3.5  # chemical shift from water [ppm]\n",
    "k_a = 40  # exchange rate[Hz]\n",
    "\n",
    "# pool 2 creatine\n",
    "r1_c = r1_w\n",
    "r2_c = 1 / 170e-3\n",
    "f_c = 25e-3/111 # fraction\n",
    "dw_c = 2  # chemical shift from water [ppm]\n",
    "k_c = 1000  # exchange rate[Hz]\n",
    "\n",
    " # OPTIONAL MT pool\n",
    "r1_mt = 1\n",
    "r2_mt = 1e5\n",
    "k_mt = 23\n",
    "f_mt = 0.0500\n",
    "dw_mt = -2 #0\n",
    "lineshape_mt = 'Lorentzian' #'SuperLorentzian'\n",
    "\n",
    "scale = 0.5\n"
   ]
  },
  {
   "cell_type": "code",
   "execution_count": 12,
   "metadata": {
    "slideshow": {
     "slide_type": "slide"
    }
   },
   "outputs": [
    {
     "name": "stdout",
     "output_type": "stream",
     "text": [
      "[{'r1': 0.7692307692307692, 'r2': 10.0, 'k': 40, 'f': 0.00045045045045045046, 'dw': 3.5}, {'r1': 0.7692307692307692, 'r2': 5.88235294117647, 'k': 1000, 'f': 0.00022522522522522523, 'dw': 2}]\n"
     ]
    }
   ],
   "source": [
    "''' store parameters '''\n",
    "\n",
    "import sys\n",
    "sys.path.insert(1, '../')\n",
    "from params import Params\n",
    "\n",
    "seq_file = '../' + seq_file\n",
    "# set parameter values\n",
    "sp = Params()\n",
    "sp.set_water_pool(r1_w, r2_w, f_w)\n",
    "# for each cest pool set a pool in the params\n",
    "r1 = [x for x in dir() if x[:2] == 'r1' and x != 'r1_w' and x != 'r1_mt']\n",
    "r2 = [x for x in dir() if x[:2] == 'r2' and x != 'r2_w' and x != 'r2_mt']\n",
    "k = [x for x in dir() if x[0] == 'k' and x != 'k_w' and x != 'k_mt']\n",
    "f = [x for x in dir() if x[0] == 'f' and x != 'f_w' and x != 'f_mt']\n",
    "dw = [x for x in dir() if x[:2] == 'dw' and x != 'dw_w' and x != 'dw_mt']\n",
    "for pool in range(len(r1)):\n",
    "    sp.set_cest_pool(eval(r1[pool]), eval(r2[pool]), eval(k[pool]), eval(f[pool]), eval(dw[pool]))\n",
    "if 'r1_mt' in dir():\n",
    "    sp.set_mt_pool(r1_mt, r2_mt, k_mt, f_mt, dw_mt, lineshape_mt)\n",
    "print(sp.cest_pools)\n",
    "sp.set_m_vec(scale)\n",
    "sp.set_scanner(b0, gamma, b0_inhom, rel_b1)\n",
    "if 'verbose' in dir():\n",
    "    sp.set_options(verbose)\n",
    "if 'reset_init_mag' in dir():\n",
    "    sp.set_options(reset_init_mag)\n",
    "if 'max_pulse_samples' in dir():\n",
    "    sp.set_options(max_pulse_samples)"
   ]
  },
  {
   "cell_type": "code",
   "execution_count": 13,
   "metadata": {},
   "outputs": [
    {
     "name": "stdout",
     "output_type": "stream",
     "text": [
      "[0.99995696 0.79355318 0.78776478 0.78109683 0.77336726 0.76434587\n",
      " 0.75374678 0.74120154 0.72624433 0.70828083 0.68655706 0.66012799\n",
      " 0.62784431 0.58838163 0.54039121 0.48287872 0.41593144 0.34167472\n",
      " 0.26450286 0.18761068 0.06771723 0.06771723 0.18761068 0.26450286\n",
      " 0.34167472 0.41593144 0.48287872 0.54039121 0.58838163 0.62784431\n",
      " 0.66012799 0.68655706 0.70828083 0.72624433 0.74120154 0.75374678\n",
      " 0.76434587 0.77336726 0.78109683 0.78776478 0.79355318]\n"
     ]
    }
   ],
   "source": [
    "''' run simulation '''\n",
    "from parse_params import parse_sp\n",
    "from SimPulseqSBB import SimPulseqSBB\n",
    "\n",
    "sp_sim = parse_sp(sp, seq_file)\n",
    "\n",
    "SimPulseqSBB(sp_sim, seq_file)\n",
    "m_out = sp_sim.GetFinalMagnetizationVectors()\n",
    "mz = m_out[6, :]\n",
    "print(mz)"
   ]
  },
  {
   "cell_type": "code",
   "execution_count": 14,
   "metadata": {},
   "outputs": [
    {
     "data": {
      "image/png": "[encoded data removed]",
      "text/plain": [
       "<Figure size 432x288 with 2 Axes>"
      ]
     },
     "metadata": {},
     "output_type": "display_data"
    }
   ],
   "source": [
    "from plot import plot_z\n",
    "import matplotlib.pyplot as plt\n",
    "\n",
    "%matplotlib inline\n",
    "fig = plot_z(mz, seq_file=seq_file, plot_mtr_asym=True)\n",
    "plt.show()"
   ]
  },
  {
   "cell_type": "code",
   "execution_count": null,
   "metadata": {
    "slideshow": {
     "slide_type": "skip"
    }
   },
   "outputs": [],
   "source": []
  }
 ],
 "metadata": {
  "celltoolbar": "Slideshow",
  "kernelspec": {
   "display_name": "Python 3",
   "language": "python",
   "name": "python3"
  },
  "language_info": {
   "codemirror_mode": {
    "name": "ipython",
    "version": 3
   },
   "file_extension": ".py",
   "mimetype": "text/x-python",
   "name": "python",
   "nbconvert_exporter": "python",
   "pygments_lexer": "ipython3",
   "version": "3.7.4"
  }
 },
 "nbformat": 4,
 "nbformat_minor": 2
}