{
 "cells": [
  {
   "cell_type": "markdown",
   "metadata": {},
   "source": [
    "# Imports"
   ]
  },
  {
   "cell_type": "code",
   "execution_count": 1,
   "metadata": {},
   "outputs": [],
   "source": [
    "# Standard library imports\n",
    "import time\n",
    "import random\n",
    "\n",
    "# Third party imports\n",
    "import numpy as np\n",
    "import matplotlib.pyplot as plt\n",
    "from sklearn.model_selection import train_test_split\n",
    "from torch import load\n",
    "from lmfit import Model"
   ]
  },
  {
   "cell_type": "markdown",
   "metadata": {},
   "source": [
    "# Load data and split in train/test"
   ]
  },
  {
   "cell_type": "code",
   "execution_count": 2,
   "metadata": {},
   "outputs": [
    {
     "name": "stdout",
     "output_type": "stream",
     "text": [
      "X_train.shape = torch.Size([382433, 31]) ; X_test.shape = torch.Size([42493, 31])\n",
      "y_train.shape = torch.Size([382433, 3]) ; y_test.shape = torch.Size([42493, 3])\n"
     ]
    }
   ],
   "source": [
    "X = load(\"outputs/X_noisy.pt\")\n",
    "y = load(\"outputs/y_noisy.pt\")\n",
    "\n",
    "# split in train and test data\n",
    "X_train, X_test, y_train, y_test = train_test_split(X, y, test_size=0.1)\n",
    "print(f'X_train.shape = {X_train.shape} ; X_test.shape = {X_test.shape}')\n",
    "print(f'y_train.shape = {y_train.shape} ; y_test.shape = {y_test.shape}')"
   ]
  },
  {
   "cell_type": "markdown",
   "metadata": {},
   "source": [
    "# Define parameters and functions"
   ]
  },
  {
   "cell_type": "code",
   "execution_count": 3,
   "metadata": {},
   "outputs": [],
   "source": [
    "def wasabi(x, dB0, B1, c, d, freq, tp):\n",
    "    \"\"\"WASABI function for simultaneous determination of B1 and B0. For more information read:\n",
    "    Schuenke et al. Magnetic Resonance in Medicine, 77(2), 571–580. https://doi.org/10.1002/mrm.26133\"\"\"\n",
    "    return np.abs(c - d * np.square(np.sin(np.arctan((B1 / (freq / gamma)) / (x - dB0)))) *\n",
    "                  np.square(np.sin(np.sqrt(np.square(B1 / (freq / gamma)) +\n",
    "                                           np.square(x - dB0)) * freq * 2 * np.pi * tp / 2)))\n",
    "\n",
    "B0 = 3\n",
    "B1_nom = 1.25*B0  # in µT here... so no 1e-6 factor needed\n",
    "tp = 0.015/B0\n",
    "gamma = 42.577\n",
    "offsets = np.linspace(-2, 2, 31)"
   ]
  },
  {
   "cell_type": "markdown",
   "metadata": {},
   "source": [
    "# Fit data with analytic approximation"
   ]
  },
  {
   "cell_type": "code",
   "execution_count": 4,
   "metadata": {},
   "outputs": [
    {
     "name": "stdout",
     "output_type": "stream",
     "text": [
      "[--------------------------------------------------] Estimated remaining time 5.5 minutes.."
     ]
    },
    {
     "name": "stderr",
     "output_type": "stream",
     "text": [
      "<ipython-input-3-8fb92ecf0f17>:4: RuntimeWarning: divide by zero encountered in true_divide\n",
      "  return np.abs(c - d * np.square(np.sin(np.arctan((B1 / (freq / gamma)) / (x - dB0)))) *\n"
     ]
    },
    {
     "name": "stdout",
     "output_type": "stream",
     "text": [
      "[#################################################-] Estimated remaining time 0.0 minutes.\r"
     ]
    }
   ],
   "source": [
    "model = Model(wasabi)\n",
    "params = model.make_params()\n",
    "params['freq'].set(gamma * B0, vary=False)\n",
    "params['tp'].set(tp, vary=False)\n",
    "params['dB0'].set(0)\n",
    "params['B1'].set(B1_nom, min=0)\n",
    "params['c'].set(0.9)\n",
    "params['d'].set(1.4, min=0)\n",
    "\n",
    "dw_list = []\n",
    "dw_diff = []\n",
    "b1_list = []\n",
    "b1_diff = []\n",
    "\n",
    "count = 0\n",
    "n_total = X_test.shape[0]\n",
    "loopstart = time.time()\n",
    "for i in range(X_test.shape[0]):\n",
    "    data = X_test[i,:].numpy()\n",
    "    y_ = y_test[i].numpy()\n",
    "    \n",
    "    # set parameters within +/- 10% of true value to increase fit rebustness. \n",
    "    # Of course this can NOT be done in real measurements later, because we don't know the true value in advance\n",
    "    params['dB0'].set(y_[0]*random.uniform(0.9, 1.1))\n",
    "    params['B1'].set(y_[2]*B1_nom*random.uniform(0.9, 1.1), min=0)\n",
    "    \n",
    "    # perform fitting\n",
    "    res_ = model.fit(np.abs(data), params, x=offsets, max_nfev=100)\n",
    "    vals = res_.best_values\n",
    "    \n",
    "    # write values\n",
    "    dw_list.append(vals['dB0'])\n",
    "    dw_diff.append(vals['dB0']-y_[0])\n",
    "    b1_list.append(vals['B1'])\n",
    "    b1_diff.append(vals['B1']-y_[2]*B1_nom)\n",
    "\n",
    "    # update progress bar and estimated time\n",
    "    b = int(50 * count / n_total)\n",
    "    left = int(50 - b)\n",
    "    count += 1\n",
    "    loopremain = (time.time() - loopstart) * (n_total - count) / (count * 50)\n",
    "    print('[' + '#' * b + '-' * left + ']' +\n",
    "          f' Estimated remaining time {loopremain:.1f} minutes.', end='\\r')"
   ]
  },
  {
   "cell_type": "markdown",
   "metadata": {},
   "source": [
    "# Evaluate results"
   ]
  },
  {
   "cell_type": "code",
   "execution_count": null,
   "metadata": {},
   "outputs": [],
   "source": [
    "print(f'Mean dB0 error = {np.mean(np.abs(dw_diff)):.3f} ppm')\n",
    "print(f'Max dB0 error = {np.max(np.abs(dw_diff)):.3f} ppm')\n",
    "print(' ')\n",
    "print(f'Mean B1 error = {np.mean(np.abs(b1_diff)):.3f} µT')\n",
    "print(f'Max B1 error = {np.max(np.abs(b1_diff)):.3f} µT')"
   ]
  }
 ],
 "metadata": {
  "celltoolbar": "Attachments",
  "kernelspec": {
   "display_name": "Python 3",
   "language": "python",
   "name": "python3"
  },
  "language_info": {
   "codemirror_mode": {
    "name": "ipython",
    "version": 3
   },
   "file_extension": ".py",
   "mimetype": "text/x-python",
   "name": "python",
   "nbconvert_exporter": "python",
   "pygments_lexer": "ipython3",
   "version": "3.8.5"
  }
 },
 "nbformat": 4,
 "nbformat_minor": 4
}
